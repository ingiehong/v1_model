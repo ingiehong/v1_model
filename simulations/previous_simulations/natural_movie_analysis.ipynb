{
 "cells": [
  {
   "cell_type": "code",
   "execution_count": 7,
   "metadata": {
    "collapsed": false
   },
   "outputs": [
    {
     "name": "stdout",
     "output_type": "stream",
     "text": [
      "Neuron dataframe:\n",
      "   id   model_id      x_soma      y_soma      z_soma  rotation_angle_yaxis  \\\n",
      "0   0  100000101  110.906706 -431.668136  623.732700              1.247325   \n",
      "1   1  100000101  526.329919 -564.693981 -555.341582              3.418240   \n",
      "2   2  100000101  197.897567 -505.737886  709.692990              0.463397   \n",
      "3   3  100000101  400.302561 -465.458859 -224.639993              4.102361   \n",
      "4   4  100000101 -766.751467 -556.178476   55.929619              2.800441   \n",
      "\n",
      "    pop_name ei location  tuning_angle  \n",
      "0  LIFe5Rbp4  e    VisL5      0.000000  \n",
      "1  LIFe5Rbp4  e    VisL5      0.017278  \n",
      "2  LIFe5Rbp4  e    VisL5      0.034556  \n",
      "3  LIFe5Rbp4  e    VisL5      0.051833  \n",
      "4  LIFe5Rbp4  e    VisL5      0.069111  \n"
     ]
    }
   ],
   "source": [
    "import numpy as np\n",
    "import pandas as pd\n",
    "from pandas import Series, DataFrame\n",
    "from scipy import stats\n",
    "import matplotlib.pyplot as plt\n",
    "%matplotlib inline\n",
    "import os.path\n",
    "import json\n",
    "import pickle\n",
    "import h5py\n",
    "import sys\n",
    "import F1F0\n",
    "\n",
    "from var_utils import *\n",
    "\n",
    "save_result_dir = r\"./\"\n",
    "dir_syn = r\"./biophysical\"\n",
    "# dir_stp = r\"//allen/programs/braintv/workgroups/v1column/binghuangc/network_effect/Column_Simulation/STP_update_syn_tau/run_spike_trains/results/\"\n",
    "\n",
    "\n",
    "# Load the nodes\n",
    "nodes_DF = pd.read_csv('../Biophysical_network/net/v1_nodes.csv', sep = ' ')\n",
    "print \"Neuron dataframe:\"\n",
    "print nodes_DF.head()\n",
    "\n",
    "orientations = np.arange(0,360,45)\n",
    "trials = np.arange(10)\n",
    "stimulusTypeName = \"gratings\"\n",
    "total_n_neurons = 230924\n",
    "np.random.seed(100)\n",
    "\n",
    "pop_names_bph = np.array(['e23Cux2', 'e4Rorb', 'e4Nr5a1' , 'e4Scnn1a', 'e4other','e5Rbp4','e5noRbp4', 'e6Ntsr1'\n",
    "                , 'i23Pvalb', 'i1Htr3a','i23Htr3a','i23Sst', 'i4Pvalb', 'i4Htr3a', 'i4Sst', 'i5Pvalb'\n",
    "                 , 'i5Sst', 'i5Htr3a', 'i6Pvalb', 'i6Sst', 'i6Htr3a'])"
   ]
  },
  {
   "cell_type": "code",
   "execution_count": 8,
   "metadata": {
    "collapsed": true
   },
   "outputs": [],
   "source": [
    "def bin_resp_spk(spike_data, n_neurons, start_time, end_time, win_size, bin_stride):\n",
    "    # assumes spike_data DataFrame\n",
    "    spike_rate = np.zeros((n_neurons,len(range(start_time, end_time, bin_stride))))           \n",
    "    for l_ind, t_ind in enumerate(range(start_time,end_time, bin_stride)):\n",
    "        count_loop = spike_data[spike_data[\"time\"]>t_ind][spike_data[\"time\"]<t_ind+win_size].groupby(\"cell\")[\"time\"].count()\n",
    "        spike_rate[count_loop.index,l_ind] = count_loop\n",
    "    #print \"Done!\"\n",
    "    return spike_rate\n",
    "\n",
    "def change_bin_win(spike_rate_ephys_1ms, win_size):\n",
    "    spike_rate_ephys = np.zeros((spike_rate_ephys_1ms.shape[0], np.int(spike_rate_ephys_1ms.shape[1]/win_size)+1, spike_rate_ephys_1ms.shape[2]))\n",
    "    for bin_ind, bin_edge in enumerate(range(0,spike_rate_ephys_1ms.shape[1],win_size)):\n",
    "        spike_rate_ephys[:,bin_ind,:] = np.sum(spike_rate_ephys_1ms[:,bin_edge:bin_edge+win_size,:], axis=1)\n",
    "    return spike_rate_ephys\n",
    "\n",
    "def get_lifetime_sprs(total_spike_count):\n",
    "    total_spike_count_trial_averaged = np.nanmean(total_spike_count, axis=2)\n",
    "    n_conds = total_spike_count_trial_averaged.shape[1]    \n",
    "    r_data_sq = total_spike_count_trial_averaged**2\n",
    "    nr = (np.sum(total_spike_count_trial_averaged,1)/n_conds)**2\n",
    "    dr = (np.sum(r_data_sq,1)/n_conds)\n",
    "    S = (1 - nr/dr)/(1-(1/n_conds))\n",
    "#     S=S[~np.isnan(S)]\n",
    "    return S\n",
    "\n",
    "def get_pop_sprs(total_spike_count):\n",
    "    total_spike_count_trial_averaged = np.nanmean(total_spike_count, axis=2)\n",
    "    n_cells = total_spike_count_trial_averaged.shape[0]    \n",
    "    r_data_sq = total_spike_count_trial_averaged**2\n",
    "    nr = (np.sum(total_spike_count_trial_averaged,0)/n_cells)**2\n",
    "    dr = (np.sum(r_data_sq,0)/n_cells)\n",
    "    S = (1 - nr/dr)/(1-(1/n_cells))\n",
    "#     S=S[~np.isnan(S)]\n",
    "    return S"
   ]
  },
  {
   "cell_type": "code",
   "execution_count": 9,
   "metadata": {
    "collapsed": false
   },
   "outputs": [
    {
     "name": "stdout",
     "output_type": "stream",
     "text": [
      "Data loaded for trial:  0\n",
      "Data loaded for trial:  1\n",
      "Data loaded for trial:  2\n",
      "Data loaded for trial:  3\n",
      "Data loaded for trial:  4\n",
      "Data loaded for trial:  5\n",
      "Data loaded for trial:  6\n",
      "Data loaded for trial:  7\n",
      "Data loaded for trial:  8\n",
      "Data loaded for trial:  9\n"
     ]
    }
   ],
   "source": [
    "# parameters for calculation of firing rate over step\n",
    "\n",
    "end_time = 3000\n",
    "start_time = 500\n",
    "win_size = 50\n",
    "bin_stride = 50\n",
    "\n",
    "spike_rates = np.zeros((total_n_neurons, (end_time - start_time)/bin_stride, trials.shape[0]))\n",
    "\n",
    "for t in trials:\n",
    "    if stimulusTypeName == \"gratings\":\n",
    "        run_name = 'output_trial'+str(t)+'/spikes.txt'\n",
    "#                 spikes = np.loadtxt(dir_syn+spikes_file_name, unpack=True)\n",
    "#                 run_name =  'full3_GScorrected_PScorrected_3.0sec_SF0.04_TF2.0_ori'+str(o)+'.0_c80.0_gs0.5_spikes/trial_'+str(t)+'/output/spikes.txt'\n",
    "        spike_file = os.path.join(dir_syn, run_name)\n",
    "        spike_data = pd.read_table(spike_file, sep=\" \", names=[\"time\", \"cell\"])\n",
    "#                 spike_data = spike_data.ix[spike_data[\"cell\"] < total_n_neurons, :] # don't care about LIFs\n",
    "        spike_data = spike_data.ix[spike_data[\"time\"] > 500, :] # remove the spont part\n",
    "        spike_rates[:,:,t] = spike_rates[:,:,t] + bin_resp_spk(spike_data, total_n_neurons, start_time, end_time, win_size, bin_stride) \n",
    "    print \"Data loaded for trial: \", t\n",
    "    \n",
    "np.save(save_result_dir+'spike_rates_natural_movie_1.npy', spike_rates)\n",
    "    "
   ]
  },
  {
   "cell_type": "code",
   "execution_count": 4,
   "metadata": {
    "collapsed": false,
    "scrolled": true
   },
   "outputs": [
    {
     "name": "stdout",
     "output_type": "stream",
     "text": [
      "e23Cux2\n",
      "total number of neurons:  12689\n",
      "(12689, 12689)\n",
      "Signal correlation Done!\n"
     ]
    },
    {
     "ename": "MemoryError",
     "evalue": "",
     "output_type": "error",
     "traceback": [
      "\u001B[0;31m---------------------------------------------------------------------------\u001B[0m",
      "\u001B[0;31mMemoryError\u001B[0m                               Traceback (most recent call last)",
      "\u001B[0;32m<ipython-input-4-949b67a266ee>\u001B[0m in \u001B[0;36m<module>\u001B[0;34m()\u001B[0m\n\u001B[1;32m     11\u001B[0m     \u001B[0msig_cors\u001B[0m \u001B[0;34m=\u001B[0m \u001B[0msig_cor\u001B[0m\u001B[0;34m(\u001B[0m\u001B[0mtotal_spike_count_pop\u001B[0m\u001B[0;34m,\u001B[0m \u001B[0;36m0\u001B[0m\u001B[0;34m)\u001B[0m\u001B[0;34m\u001B[0m\u001B[0m\n\u001B[1;32m     12\u001B[0m     \u001B[0;32mprint\u001B[0m \u001B[0;34m'Signal correlation Done!'\u001B[0m\u001B[0;34m\u001B[0m\u001B[0m\n\u001B[0;32m---> 13\u001B[0;31m     \u001B[0mnoise_cors\u001B[0m \u001B[0;34m=\u001B[0m \u001B[0mnoise_cor\u001B[0m\u001B[0;34m(\u001B[0m\u001B[0mtotal_spike_count_pop\u001B[0m\u001B[0;34m,\u001B[0m \u001B[0;36m0\u001B[0m\u001B[0;34m)\u001B[0m\u001B[0;34m\u001B[0m\u001B[0m\n\u001B[0m\u001B[1;32m     14\u001B[0m     \u001B[0;32mprint\u001B[0m \u001B[0;34m'Noise correlation Done!'\u001B[0m\u001B[0;34m\u001B[0m\u001B[0m\n\u001B[1;32m     15\u001B[0m \u001B[0;34m\u001B[0m\u001B[0m\n",
      "\u001B[0;32m/allen/aibs/mat/yazan/corticalCol/ice/analysis/Reza_analysis_code/var_utils.pyc\u001B[0m in \u001B[0;36mnoise_cor\u001B[0;34m(total_spike_count, remove_nans)\u001B[0m\n\u001B[1;32m     59\u001B[0m         \u001B[0mtempR_exc\u001B[0m\u001B[0;34m[\u001B[0m\u001B[0mo_ind\u001B[0m\u001B[0;34m,\u001B[0m\u001B[0;34m:\u001B[0m\u001B[0;34m]\u001B[0m \u001B[0;34m=\u001B[0m \u001B[0mtempR_exc_tril\u001B[0m\u001B[0;34m[\u001B[0m\u001B[0mnp\u001B[0m\u001B[0;34m.\u001B[0m\u001B[0mtril_indices\u001B[0m\u001B[0;34m(\u001B[0m\u001B[0mint\u001B[0m\u001B[0;34m(\u001B[0m\u001B[0mnp\u001B[0m\u001B[0;34m.\u001B[0m\u001B[0msqrt\u001B[0m\u001B[0;34m(\u001B[0m\u001B[0mtempR_exc_tril\u001B[0m\u001B[0;34m.\u001B[0m\u001B[0msize\u001B[0m\u001B[0;34m)\u001B[0m\u001B[0;34m)\u001B[0m\u001B[0;34m,\u001B[0m \u001B[0;34m-\u001B[0m\u001B[0;36m1\u001B[0m\u001B[0;34m)\u001B[0m\u001B[0;34m]\u001B[0m\u001B[0;34m\u001B[0m\u001B[0m\n\u001B[1;32m     60\u001B[0m \u001B[0;31m#     tempR_exc = tempR_exc/total_spike_count.shape[1]\u001B[0m\u001B[0;34m\u001B[0m\u001B[0;34m\u001B[0m\u001B[0m\n\u001B[0;32m---> 61\u001B[0;31m     \u001B[0mtempR_exc\u001B[0m \u001B[0;34m=\u001B[0m \u001B[0mnp\u001B[0m\u001B[0;34m.\u001B[0m\u001B[0mnanmean\u001B[0m\u001B[0;34m(\u001B[0m\u001B[0mtempR_exc\u001B[0m\u001B[0;34m,\u001B[0m \u001B[0maxis\u001B[0m\u001B[0;34m=\u001B[0m\u001B[0;36m0\u001B[0m\u001B[0;34m)\u001B[0m\u001B[0;34m\u001B[0m\u001B[0m\n\u001B[0m\u001B[1;32m     62\u001B[0m     \u001B[0;32mprint\u001B[0m \u001B[0mtempR_exc\u001B[0m\u001B[0;34m.\u001B[0m\u001B[0mshape\u001B[0m\u001B[0;34m\u001B[0m\u001B[0m\n\u001B[1;32m     63\u001B[0m     \u001B[0;32mif\u001B[0m \u001B[0mremove_nans\u001B[0m\u001B[0;34m:\u001B[0m\u001B[0;34m\u001B[0m\u001B[0m\n",
      "\u001B[0;32m/shared/utils.x86_64/python-2.7/lib/python2.7/site-packages/numpy/lib/nanfunctions.pyc\u001B[0m in \u001B[0;36mnanmean\u001B[0;34m(a, axis, dtype, out, keepdims)\u001B[0m\n\u001B[1;32m    576\u001B[0m \u001B[0;34m\u001B[0m\u001B[0m\n\u001B[1;32m    577\u001B[0m     \"\"\"\n\u001B[0;32m--> 578\u001B[0;31m     \u001B[0marr\u001B[0m\u001B[0;34m,\u001B[0m \u001B[0mmask\u001B[0m \u001B[0;34m=\u001B[0m \u001B[0m_replace_nan\u001B[0m\u001B[0;34m(\u001B[0m\u001B[0ma\u001B[0m\u001B[0;34m,\u001B[0m \u001B[0;36m0\u001B[0m\u001B[0;34m)\u001B[0m\u001B[0;34m\u001B[0m\u001B[0m\n\u001B[0m\u001B[1;32m    579\u001B[0m     \u001B[0;32mif\u001B[0m \u001B[0mmask\u001B[0m \u001B[0;32mis\u001B[0m \u001B[0mNone\u001B[0m\u001B[0;34m:\u001B[0m\u001B[0;34m\u001B[0m\u001B[0m\n\u001B[1;32m    580\u001B[0m         \u001B[0;32mreturn\u001B[0m \u001B[0mnp\u001B[0m\u001B[0;34m.\u001B[0m\u001B[0mmean\u001B[0m\u001B[0;34m(\u001B[0m\u001B[0marr\u001B[0m\u001B[0;34m,\u001B[0m \u001B[0maxis\u001B[0m\u001B[0;34m=\u001B[0m\u001B[0maxis\u001B[0m\u001B[0;34m,\u001B[0m \u001B[0mdtype\u001B[0m\u001B[0;34m=\u001B[0m\u001B[0mdtype\u001B[0m\u001B[0;34m,\u001B[0m \u001B[0mout\u001B[0m\u001B[0;34m=\u001B[0m\u001B[0mout\u001B[0m\u001B[0;34m,\u001B[0m \u001B[0mkeepdims\u001B[0m\u001B[0;34m=\u001B[0m\u001B[0mkeepdims\u001B[0m\u001B[0;34m)\u001B[0m\u001B[0;34m\u001B[0m\u001B[0m\n",
      "\u001B[0;32m/shared/utils.x86_64/python-2.7/lib/python2.7/site-packages/numpy/lib/nanfunctions.pyc\u001B[0m in \u001B[0;36m_replace_nan\u001B[0;34m(a, val)\u001B[0m\n\u001B[1;32m     58\u001B[0m     \u001B[0;32mif\u001B[0m \u001B[0;32mnot\u001B[0m \u001B[0mis_new\u001B[0m\u001B[0;34m:\u001B[0m\u001B[0;34m\u001B[0m\u001B[0m\n\u001B[1;32m     59\u001B[0m         \u001B[0;31m# need copy\u001B[0m\u001B[0;34m\u001B[0m\u001B[0;34m\u001B[0m\u001B[0m\n\u001B[0;32m---> 60\u001B[0;31m         \u001B[0ma\u001B[0m \u001B[0;34m=\u001B[0m \u001B[0mnp\u001B[0m\u001B[0;34m.\u001B[0m\u001B[0marray\u001B[0m\u001B[0;34m(\u001B[0m\u001B[0ma\u001B[0m\u001B[0;34m,\u001B[0m \u001B[0msubok\u001B[0m\u001B[0;34m=\u001B[0m\u001B[0mTrue\u001B[0m\u001B[0;34m)\u001B[0m\u001B[0;34m\u001B[0m\u001B[0m\n\u001B[0m\u001B[1;32m     61\u001B[0m \u001B[0;34m\u001B[0m\u001B[0m\n\u001B[1;32m     62\u001B[0m     \u001B[0mmask\u001B[0m \u001B[0;34m=\u001B[0m \u001B[0mnp\u001B[0m\u001B[0;34m.\u001B[0m\u001B[0misnan\u001B[0m\u001B[0;34m(\u001B[0m\u001B[0ma\u001B[0m\u001B[0;34m)\u001B[0m\u001B[0;34m\u001B[0m\u001B[0m\n",
      "\u001B[0;31mMemoryError\u001B[0m: "
     ]
    }
   ],
   "source": [
    "total_spike_count = np.load(save_result_dir+\"spike_rates_natural_movie_1.npy\")\n",
    "sig_noise_cors = np.empty(len(pop_names_bph))    \n",
    "    \n",
    "for k, pop_name in enumerate(pop_names_bph):\n",
    "    print pop_name\n",
    "\n",
    "    ids_pop = nodes_DF[nodes_DF.pop_name == pop_name].id\n",
    "    total_spike_count_pop = total_spike_count[ids_pop,:,:]\n",
    "    print 'total number of neurons: ', total_spike_count_pop.shape[0]\n",
    "\n",
    "    sig_cors = sig_cor(total_spike_count_pop, 0)\n",
    "    print 'Signal correlation Done!'\n",
    "    noise_cors = noise_cor(total_spike_count_pop, 0)\n",
    "    print 'Noise correlation Done!'\n",
    "\n",
    "    sig_noise_cors = sig_noise_cor(sig_cors,noise_cors)\n",
    "#         plot_sig_noise_cor(tempR_sig,tempR_noise)\n",
    "\n",
    "    np.savez(save_result_dir+'corrs/natural_movie/biophysical/corrs_natural_movie_1_'+pop_name+'.npz', sig_noise_cors = sig_noise_cors, sig_cors = sig_cors, noise_cors = noise_cors)"
   ]
  },
  {
   "cell_type": "code",
   "execution_count": null,
   "metadata": {
    "collapsed": false
   },
   "outputs": [],
   "source": [
    "fig = plt.figure(figsize=(15,5))\n",
    "ax = plt.subplot(111)\n",
    "\n",
    "for k, pop_name in enumerate(pop_names_bph):\n",
    "#     print pop_name\n",
    "    corr_file = np.load(save_result_dir+'corrs/natural_movie/biophysical/corrs_natural_movie_1_'+pop_name+'.npz')\n",
    "    sig_noise_cors = corr_file['sig_noise_cors']\n",
    "    sig_cors = corr_file['sig_cors']\n",
    "#     noise_cors = corr_file['noise_cors']\n",
    "    sig_cors = sig_cors[~np.isnan(sig_cors)]\n",
    "    \n",
    "    ax.boxplot(sig_cors, positions = [k+1], patch_artist= True)\n",
    "plt.xlim([0,22])\n",
    "plt.xticks(np.arange(1,pop_names_bph.shape[0]+1), pop_names_bph, rotation=45, ha = 'right')\n",
    "plt.xlabel('Cell type')\n",
    "plt.ylabel('Signal correlation')\n",
    "plt.show()\n",
    "\n",
    "fig = plt.figure(figsize=(15,5))\n",
    "ax = plt.subplot(111)\n",
    "\n",
    "for k, pop_name in enumerate(pop_names_bph):\n",
    "#     print pop_name\n",
    "    corr_file = np.load(save_result_dir+'corrs/natural_movie/biophysical/corrs_natural_movie_1_'+pop_name+'.npz')\n",
    "#     sig_noise_cors = corr_file['sig_noise_cors']\n",
    "#     sig_cors = corr_file['sig_cors']\n",
    "    noise_cors = corr_file['noise_cors']\n",
    "    noise_cors = noise_cors[~np.isnan(noise_cors)]\n",
    "\n",
    "    ax.boxplot(noise_cors, positions = [k+1], patch_artist= True)\n",
    "plt.xlim([0,22])\n",
    "plt.xticks(np.arange(1,pop_names_bph.shape[0]+1), pop_names_bph, rotation=45, ha = 'right')\n",
    "plt.xlabel('Cell type')\n",
    "plt.ylabel('Noise correlation')\n",
    "plt.show()\n",
    "\n",
    "fig = plt.figure(figsize=(15,5))\n",
    "ax = plt.subplot(111)\n",
    "sig_noise_cors = np.zeros(len(pop_names_bph))\n",
    "for k, pop_name in enumerate(pop_names_bph):\n",
    "#     print pop_name\n",
    "    corr_file = np.load(save_result_dir+'corrs/natural_movie/biophysical/corrs_natural_movie_1_'+pop_name+'.npz')\n",
    "    sig_noise_cors[k] = corr_file['sig_noise_cors']\n",
    "#     sig_cors = corr_file['sig_cors']\n",
    "#     noise_cors = corr_file['noise_cors']\n",
    "    \n",
    "#     ax.boxplot(sig_noise_cors[k], positions = [k+1], patch_artist= True)\n",
    "bp = plt.bar(np.arange(1,pop_names_bph.shape[0]+1), sig_noise_cors)\n",
    "# plt.xlim([0,22])\n",
    "plt.xticks(np.arange(1,pop_names_bph.shape[0]+1), pop_names_bph, rotation=45, ha = 'right')\n",
    "plt.xlabel('Cell type')\n",
    "plt.ylabel('Correlation of signal and noise correlations')\n",
    "plt.show()"
   ]
  },
  {
   "cell_type": "markdown",
   "metadata": {},
   "source": [
    "# Sparsity"
   ]
  },
  {
   "cell_type": "code",
   "execution_count": 10,
   "metadata": {
    "collapsed": false
   },
   "outputs": [
    {
     "data": {
      "image/png": "[encoded data removed]",
      "text/plain": [
       "<matplotlib.figure.Figure at 0x7f3916454590>"
      ]
     },
     "metadata": {},
     "output_type": "display_data"
    }
   ],
   "source": [
    "total_spike_count = np.load(save_result_dir+\"spike_rates_natural_movie_1.npy\")\n",
    "lt_sprs = get_lifetime_sprs(total_spike_count)\n",
    "\n",
    "fig = plt.figure(figsize=(15,5))\n",
    "ax = plt.subplot(111)\n",
    "\n",
    "for k, pop_name in enumerate(pop_names_bph):\n",
    "#     print pop_name\n",
    "\n",
    "    ids_pop = nodes_DF[nodes_DF.pop_name == pop_name].id\n",
    "    lt_sprs_pop = lt_sprs[ids_pop]\n",
    "#     print 'total number of neurons: ', lt_sprs_pop.shape[0]\n",
    "    sprs_loop = lt_sprs_pop[:]\n",
    "    lt_sparsity = lt_sprs_pop[~np.isnan(sprs_loop)]\n",
    "    \n",
    "    np.savez(save_result_dir+'sparsity/lt_sprs_natural_movie_1_'+pop_name+'.npz', lt_sparsity = lt_sparsity)\n",
    "    ax.boxplot(lt_sparsity, positions = [k+1], patch_artist= True)\n",
    "plt.xlim([0,22])\n",
    "plt.xticks(np.arange(1,pop_names_bph.shape[0]+1), pop_names_bph, rotation=45, ha = 'right')\n",
    "plt.xlabel('Cell type')\n",
    "plt.ylabel('Lifetime Sparseness')\n",
    "plt.show()"
   ]
  },
  {
   "cell_type": "code",
   "execution_count": 11,
   "metadata": {
    "collapsed": false
   },
   "outputs": [
    {
     "data": {
      "image/png": "[encoded data removed]",
      "text/plain": [
       "<matplotlib.figure.Figure at 0x7f38d7d9f4d0>"
      ]
     },
     "metadata": {},
     "output_type": "display_data"
    }
   ],
   "source": [
    "total_spike_count = np.load(save_result_dir+\"spike_rates_natural_movie_1.npy\")\n",
    "\n",
    "fig = plt.figure(figsize=(15,5))\n",
    "ax = plt.subplot(111)\n",
    "\n",
    "for k, pop_name in enumerate(pop_names_bph):\n",
    "    ids_pop = nodes_DF[nodes_DF.pop_name == pop_name].id\n",
    "    lt_sprs_pop = get_pop_sprs(total_spike_count[ids_pop])\n",
    "    sprs_loop = lt_sprs_pop[:]\n",
    "    pop_sparsity = lt_sprs_pop[~np.isnan(sprs_loop)]\n",
    "    \n",
    "    np.savez(save_result_dir+'sparsity/pop_sprs_natural_movie_1_'+pop_name+'.npz', pop_sparsity = pop_sparsity)\n",
    "    ax.boxplot(pop_sparsity, positions = [k+1], patch_artist= True)\n",
    "plt.xlim([0,22])\n",
    "plt.xticks(np.arange(1,pop_names_bph.shape[0]+1), pop_names_bph, rotation=45, ha = 'right')\n",
    "plt.xlabel('Cell type')\n",
    "plt.ylabel('Population Sparseness')\n",
    "plt.show()"
   ]
  },
  {
   "cell_type": "markdown",
   "metadata": {},
   "source": [
    "## ephys"
   ]
  },
  {
   "cell_type": "code",
   "execution_count": null,
   "metadata": {
    "collapsed": false,
    "scrolled": true
   },
   "outputs": [],
   "source": [
    "L1_boundary = 28\n",
    "L23_boundary = 6\n",
    "L4_boundary = -6\n",
    "L5_boundary = -28\n",
    "\n",
    "layer_names = np.array(['e23', 'e4', 'e5' , 'e6', 'i1', 'i23', 'i4', 'i5' , 'i6'])\n",
    "\n",
    "for mouse in ['392810', '398261', '398263', '404551', '404568', '412792', '412802']:\n",
    "# for mouse in ['392810']:\n",
    "\n",
    "    print \"MOUSE: \" + mouse\n",
    "    mouse_DF = pd.read_csv('//allen/aibs/mat/yazan/corticalCol/ice/analysis/neuropixels_data/mouse' + mouse + 'drifting_tuning_tf2.0.csv')\n",
    "    mouse_meta = pd.read_csv('//allen/aibs/mat/yazan/corticalCol/ice/analysis/neuropixels_data/mouse' + mouse + '_cortex_meta.csv')\n",
    "    mouse_DF['type'] = mouse_meta.type\n",
    "\n",
    "    dsi = np.array(mouse_DF.ix[mouse_DF.area == 'V1', 'dsi'])\n",
    "    osi = np.array(mouse_DF.ix[mouse_DF.area == 'V1', 'osi'])\n",
    "\n",
    "    depth = np.array(mouse_DF.ix[mouse_DF.area == 'V1', 'rel_layer4'])\n",
    "    blank = np.array(mouse_DF.ix[mouse_DF.area == 'V1', 'blank'])\n",
    "    FR = np.array(mouse_DF.ix[mouse_DF.area == 'V1', 'FR'])\n",
    "    neuronType = list(mouse_DF.ix[mouse_DF.area == 'V1', 'type'])\n",
    "    rs_inds = [i for i, j in enumerate(neuronType) if j == 'rs']\n",
    "    fs_inds = [i for i, j in enumerate(neuronType) if j == 'fs']\n",
    "\n",
    "    # Only Htr3a for L1 assumed\n",
    "    unit_ids_L1 = np.where(depth >= L1_boundary)[0]\n",
    "    # RS of L2/3\n",
    "    unit_ids_rs_L23 = np.intersect1d(np.intersect1d(np.where(depth < L1_boundary), np.where(depth >= L23_boundary)), rs_inds)\n",
    "    # RS of L4\n",
    "    unit_ids_rs_L4 = np.intersect1d(np.intersect1d(np.where(depth < L23_boundary), np.where(depth >= L4_boundary)), rs_inds)\n",
    "    # RS of L5\n",
    "    unit_ids_rs_L5 = np.intersect1d(np.intersect1d(np.where(depth < L4_boundary), np.where(depth >= L5_boundary)), rs_inds)\n",
    "    # RS for L6\n",
    "    unit_ids_rs_L6 = np.intersect1d(np.where(depth < L5_boundary), rs_inds)\n",
    "    # FS of L2/3\n",
    "    unit_ids_fs_L23 = np.intersect1d(np.intersect1d(np.where(depth < L1_boundary), np.where(depth >= L23_boundary)), fs_inds)\n",
    "    # FS of L4\n",
    "    unit_ids_fs_L4 = np.intersect1d(np.intersect1d(np.where(depth < L23_boundary), np.where(depth >= L4_boundary)), fs_inds)\n",
    "    # FS of L5\n",
    "    unit_ids_fs_L5 = np.intersect1d(np.intersect1d(np.where(depth < L4_boundary), np.where(depth >= L5_boundary)), fs_inds)\n",
    "    # FS of L6\n",
    "    unit_ids_fs_L6 = np.intersect1d(np.where(depth < L5_boundary), fs_inds)\n",
    "    \n",
    "    ephys_layer_ids = [unit_ids_rs_L23, unit_ids_rs_L4, unit_ids_rs_L5, unit_ids_rs_L6, unit_ids_L1, unit_ids_fs_L23, \n",
    "                      unit_ids_fs_L4, unit_ids_fs_L5, unit_ids_fs_L6]\n",
    "    \n",
    "\n",
    "    mouseID='mouse' + mouse\n",
    "\n",
    "    # path to nwb location\n",
    "    nwbpath = '/allen/programs/braintv/workgroups/neuralcoding/Ephys_NWB_pilot/NWB_1_1/BOb_1_1/'\n",
    "\n",
    "    output = '//allen/programs/braintv/workgroups/v1column/rezaa/ephys/'+mouseID\n",
    "    output_path = output+'/matrix/'\n",
    "\n",
    "    filename = mouseID+'.spikes.nwb'\n",
    "    nwb_data = h5py.File(os.path.join(nwbpath,filename),'r')\n",
    "\n",
    "    condi='cortex'\n",
    "    #condi='all_units'\n",
    "\n",
    "    key = 'natural_movie_3_4'\n",
    "    spike_rate_ephys_1ms = np.rollaxis(np.load(output_path+key+'_'+condi+'.npy'), 2,1)\n",
    "    spike_rate_ephys_1ms = spike_rate_ephys_1ms[:,40167:42666,:]\n",
    "    print 'spike rate size: ', spike_rate_ephys_1ms.shape\n",
    "\n",
    "    win_size = 50\n",
    "    total_spike_count = change_bin_win(spike_rate_ephys_1ms, win_size)\n",
    "    print 'binned spike rate size: ', total_spike_count.shape\n",
    "    \n",
    "    lt_sprs = get_lifetime_sprs(total_spike_count)\n",
    "    print lt_sprs.shape\n",
    "\n",
    "    for k, current_ephys_layer_ids in enumerate(ephys_layer_ids):\n",
    "        lt_sprs_pop = lt_sprs[current_ephys_layer_ids]\n",
    "        print 'total number of neurons: ', lt_sprs_pop.shape[0]\n",
    "        sprs_loop = lt_sprs_pop[:]\n",
    "        lt_sparsity = lt_sprs_pop[~np.isnan(sprs_loop)] \n",
    "        np.savez(save_result_dir+'sparsity/natural_movie/ephys_per_mouse/lt_sprs_natural_movie_3_'+str(layer_names[k])+'_'+mouseID+'.npz', lt_sparsity = lt_sparsity)\n",
    "    \n",
    "    \n",
    "\n",
    "    for k, current_ephys_layer_ids in enumerate(ephys_layer_ids):\n",
    "        total_spike_count_pop = total_spike_count[current_ephys_layer_ids]\n",
    "        print 'total number of neurons: ', total_spike_count_pop.shape[0]\n",
    "\n",
    "        if total_spike_count_pop.shape[0] > 1:\n",
    "            lt_sprs_pop = get_pop_sprs(total_spike_count_pop)\n",
    "            sprs_loop = lt_sprs_pop[:]\n",
    "            pop_sparsity = lt_sprs_pop[~np.isnan(sprs_loop)]\n",
    "        else: \n",
    "            pop_sparsity = np.nan \n",
    "        \n",
    "        np.savez(save_result_dir+'sparsity/natural_movie/ephys_per_mouse/pop_sprs_natural_movie_3_'+str(layer_names[k])+'_'+mouseID+'.npz', pop_sparsity = pop_sparsity)\n",
    "\n"
   ]
  },
  {
   "cell_type": "code",
   "execution_count": null,
   "metadata": {
    "collapsed": false
   },
   "outputs": [],
   "source": [
    "layer_names = np.array(['e23', 'e4', 'e5' , 'e6', 'i1', 'i23', 'i4', 'i5' , 'i6'])\n",
    "\n",
    "for k, layer_name in enumerate(layer_names):\n",
    "    print layer_name\n",
    "    pop_sparsity = []\n",
    "    for mouse in ['392810', '398261', '398263', '404551', '404568', '412792', '412802']:\n",
    "        mouseID='mouse' + mouse\n",
    "        sprs_datafile = np.load(save_result_dir+'sparsity/natural_movie/ephys_per_mouse/pop_sprs_natural_movie_3_'+str(layer_name)+'_'+mouseID+'.npz')\n",
    "        if np.sum(np.isfinite(sprs_datafile['pop_sparsity'])):\n",
    "            pop_sparsity = np.concatenate((pop_sparsity, sprs_datafile['pop_sparsity']))\n",
    "#         sig_cors = np.concatenate((sig_cors, corr_datafile['sig_cors']))\n",
    "#         noise_cors = np.concatenate((noise_cors, corr_datafile['noise_cors']))\n",
    "    print pop_sparsity\n",
    "    np.savez(save_result_dir+'sparsity/natural_movie/ephys/pop_sprs_natural_movie_3_'+str(layer_name)+'.npz', pop_sparsity = pop_sparsity)\n",
    "    \n",
    "\n",
    "for k, layer_name in enumerate(layer_names):\n",
    "    print layer_name\n",
    "    lt_sparsity = []\n",
    "    for mouse in ['392810', '398261', '398263', '404551', '404568', '412792', '412802']:\n",
    "        mouseID='mouse' + mouse\n",
    "        sprs_datafile = np.load(save_result_dir+'sparsity/natural_movie/ephys_per_mouse/lt_sprs_natural_movie_3_'+str(layer_name)+'_'+mouseID+'.npz')\n",
    "        if np.sum(np.isfinite(sprs_datafile['lt_sparsity'])):\n",
    "            lt_sparsity = np.concatenate((lt_sparsity, sprs_datafile['lt_sparsity']))\n",
    "#         sig_cors = np.concatenate((sig_cors, corr_datafile['sig_cors']))\n",
    "#         noise_cors = np.concatenate((noise_cors, corr_datafile['noise_cors']))\n",
    "    print lt_sparsity\n",
    "    np.savez(save_result_dir+'sparsity/natural_movie/ephys/lt_sprs_natural_movie_3_'+str(layer_name)+'.npz', lt_sparsity = lt_sparsity)"
   ]
  },
  {
   "cell_type": "markdown",
   "metadata": {},
   "source": [
    "# GLIF"
   ]
  },
  {
   "cell_type": "code",
   "execution_count": null,
   "metadata": {
    "collapsed": false
   },
   "outputs": [],
   "source": [
    "# parameters for calculation of firing rate over step\n",
    "\n",
    "dir_syn = r'/allen/programs/braintv/workgroups/v1column/binghuangc/network_effect/Column_Simulation/test_gausian_rules_update_syn_tau_shuffle_models/run_production_rule100_tuned/results_rule100_tuned_all/full3_naturalmovie_graycorr_1000Hz_spikes/'\n",
    "\n",
    "end_time = 3000\n",
    "start_time = 500\n",
    "win_size = 50\n",
    "bin_stride = 50\n",
    "\n",
    "spike_rates = np.zeros((total_n_neurons, (end_time - start_time)/bin_stride, trials.shape[0]))\n",
    "\n",
    "for t in trials:\n",
    "    if stimulusTypeName == \"gratings\":\n",
    "        run_name = 'trial_'+str(t)+'/output/spikes.txt'\n",
    "#                 spikes = np.loadtxt(dir_syn+spikes_file_name, unpack=True)\n",
    "#                 run_name =  'full3_GScorrected_PScorrected_3.0sec_SF0.04_TF2.0_ori'+str(o)+'.0_c80.0_gs0.5_spikes/trial_'+str(t)+'/output/spikes.txt'\n",
    "        spike_file = os.path.join(dir_syn, run_name)\n",
    "        spike_data = pd.read_table(spike_file, sep=\" \", names=[\"time\", \"cell\"])\n",
    "#                 spike_data = spike_data.ix[spike_data[\"cell\"] < total_n_neurons, :] # don't care about LIFs\n",
    "        spike_data = spike_data.ix[spike_data[\"time\"] > 500, :] # remove the spont part\n",
    "        spike_rates[:,:,t] = spike_rates[:,:,t] + bin_resp_spk(spike_data, total_n_neurons, start_time, end_time, win_size, bin_stride) \n",
    "    print \"Data loaded for trial: \", t\n",
    "    \n",
    "np.save(save_result_dir+'spike_rates_natural_movie_1_GLIF.npy', spike_rates)\n",
    "    "
   ]
  }
 ],
 "metadata": {
  "kernelspec": {
   "display_name": "Python 2",
   "language": "python",
   "name": "python2"
  },
  "language_info": {
   "codemirror_mode": {
    "name": "ipython",
    "version": 2
   },
   "file_extension": ".py",
   "mimetype": "text/x-python",
   "name": "python",
   "nbconvert_exporter": "python",
   "pygments_lexer": "ipython2",
   "version": "2.7.9"
  }
 },
 "nbformat": 4,
 "nbformat_minor": 1
}
