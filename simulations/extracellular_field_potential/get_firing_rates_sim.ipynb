{
 "cells": [
  {
   "cell_type": "code",
   "execution_count": 4,
   "metadata": {},
   "outputs": [],
   "source": [
    "import sys"
   ]
  },
  {
   "cell_type": "code",
   "execution_count": 5,
   "metadata": {},
   "outputs": [],
   "source": [
    "import scipy.signal as ss\n",
    "from scipy import signal\n",
    "import h5py\n",
    "import neo\n",
    "import nixio\n",
    "import numpy as np\n",
    "import matplotlib.pyplot as plt\n",
    "import json\n",
    "from scipy.interpolate import interp2d\n",
    "from scipy.stats import linregress\n",
    "import os\n",
    "from scipy import io\n",
    "import quantities as pq\n",
    "from collections import Counter"
   ]
  },
  {
   "cell_type": "code",
   "execution_count": 6,
   "metadata": {},
   "outputs": [],
   "source": [
    "nchan = 51                    # number of channels on electrode\n",
    "ntime = 1000                  # [ms]\n",
    "trial_dur = 1000              # [ms]\n",
    "nstim = 10                    # number of trials all stimuli\n",
    "ntrials = 5                   # number of trials each stimulus type\n",
    "nstim_types = 2\n",
    "time_stim_onset = 500         # [ms]\n",
    "time_stim_dur = 250           # [ms] duration of stimulus\n",
    "ncells = 21                   # number of cell types\n",
    "stim_string = ['White Flash', 'Black Flash']\n",
    "stim_type = 0                 # white (0) or black (1) flash\n",
    "layer_borders = [-0, -100, -310, -430, -650, -850] # [1E-6*m]\n",
    "total_time = 10500            # ms"
   ]
  },
  {
   "cell_type": "code",
   "execution_count": 7,
   "metadata": {},
   "outputs": [],
   "source": [
    "sim_data_dir = '/Users/atleeskelandrimehaug/Dropbox (Simula)/scripts_for_bmtk/data_files/sim'"
   ]
  },
  {
   "cell_type": "code",
   "execution_count": 8,
   "metadata": {},
   "outputs": [],
   "source": [
    "cell_names = ['e23Cux2',\n",
    " 'e4Nr5a1',\n",
    " 'e4Rorb',\n",
    " 'e4Scnn1a',\n",
    " 'e4other',\n",
    " 'e5Rbp4',\n",
    " 'e5noRbp4',\n",
    " 'e6Ntsr1',\n",
    " 'i1Htr3a',\n",
    " 'i23Htr3a',\n",
    " 'i23Pvalb',\n",
    " 'i23Sst',\n",
    " 'i4Htr3a',\n",
    " 'i4Pvalb',\n",
    " 'i4Sst',\n",
    " 'i5Htr3a',\n",
    " 'i5Pvalb',\n",
    " 'i5Sst',\n",
    " 'i6Htr3a',\n",
    " 'i6Pvalb',\n",
    " 'i6Sst']\n",
    "layer_names = ['e23', 'e4', 'e5', 'e6', 'i1', 'i23', 'i4', 'i5', 'i6']"
   ]
  },
  {
   "cell_type": "code",
   "execution_count": 10,
   "metadata": {},
   "outputs": [
    {
     "name": "stdout",
     "output_type": "stream",
     "text": [
      "0 e23Cux2\n",
      "1 e4Nr5a1\n",
      "2 e4Rorb\n",
      "3 e4Scnn1a\n",
      "4 e4other\n",
      "5 e5Rbp4\n",
      "6 e5noRbp4\n",
      "7 e6Ntsr1\n",
      "8 i1Htr3a\n",
      "9 i23Htr3a\n",
      "10 i23Pvalb\n",
      "11 i23Sst\n",
      "12 i4Htr3a\n",
      "13 i4Pvalb\n",
      "14 i4Sst\n",
      "15 i5Htr3a\n",
      "16 i5Pvalb\n",
      "17 i5Sst\n",
      "18 i6Htr3a\n",
      "19 i6Pvalb\n",
      "20 i6Sst\n"
     ]
    }
   ],
   "source": [
    "f_rates_trial_avg = np.zeros((ncells,nstim_types,ntime))\n",
    "\n",
    "fir_rates_all_trials = np.zeros((ncells,nstim_types,ntrials,ntime))\n",
    "\n",
    "for cell_nr, cell_name in enumerate(cell_names):\n",
    "    filename = 'mod_21_jan_20/spikes_sorted_by_pop/onlySpikeTimesPerPopulation/'+\\\n",
    "        'onlySpikeTimes_%s.txt' % cell_name\n",
    "    total_time = 10500\n",
    "    \n",
    "    print(cell_nr, cell_name)\n",
    "    loadpath = os.path.join(sim_data_dir, filename)\n",
    "    \n",
    "    a = open(loadpath, 'r')\n",
    "    \n",
    "    spike_times = np.asarray(a.readlines(), dtype = float)\n",
    "\n",
    "    t = np.linspace(0, total_time, total_time+1)\n",
    "\n",
    "    entries = np.digitize(spike_times, t)\n",
    "    \n",
    "    count = Counter(entries)\n",
    "    entries_values = list(count.keys())\n",
    "    spike_time_freqs = list(count.values())\n",
    "    \n",
    "    #print('entries_values: ', entries_values)\n",
    "    #print('entries_values: ', spike_time_freqs)\n",
    "    \n",
    "    firing_rate = np.zeros_like(t)\n",
    "\n",
    "    firing_rate[entries_values] = spike_time_freqs\n",
    "    \n",
    "    firing_rate_reshaped = np.zeros((nstim, trial_dur))\n",
    "\n",
    "    for i in range(nstim):\n",
    "        firing_rate_reshaped[i] = firing_rate[i*1000:(i+1)*1000]\n",
    "    \n",
    "    for itrial in range(ntrials):\n",
    "        fir_rates_all_trials[cell_nr,0,itrial] = firing_rate_reshaped[2*itrial]\n",
    "        \n",
    "        fir_rates_all_trials[cell_nr,1,itrial] = firing_rate_reshaped[2*itrial+1]\n",
    "\n",
    "    # Calculate trial averages\n",
    "    f_rates_trial_avg[cell_nr, 0:1] = np.mean(firing_rate_reshaped[0::2],0)\n",
    "    f_rates_trial_avg[cell_nr, 1:2] = np.mean(firing_rate_reshaped[1::2],0)"
   ]
  },
  {
   "cell_type": "markdown",
   "metadata": {},
   "source": [
    "#### Number of cells"
   ]
  },
  {
   "cell_type": "code",
   "execution_count": 11,
   "metadata": {
    "scrolled": true
   },
   "outputs": [
    {
     "name": "stdout",
     "output_type": "stream",
     "text": [
      "0 e23Cux2\n",
      "12689\n",
      "1 e4Nr5a1\n",
      "1248\n",
      "2 e4Rorb\n",
      "2605\n",
      "3 e4Scnn1a\n",
      "3072\n",
      "4 e4other\n",
      "3329\n",
      "5 e5Rbp4\n",
      "6010\n",
      "6 e5noRbp4\n",
      "1559\n",
      "7 e6Ntsr1\n",
      "12882\n",
      "8 i1Htr3a\n",
      "999\n",
      "9 i23Htr3a\n",
      "1107\n",
      "10 i23Pvalb\n",
      "640\n",
      "11 i23Sst\n",
      "464\n",
      "12 i4Htr3a\n",
      "270\n",
      "13 i4Pvalb\n",
      "963\n",
      "14 i4Sst\n",
      "553\n",
      "15 i5Htr3a\n",
      "117\n",
      "16 i5Pvalb\n",
      "613\n",
      "17 i5Sst\n",
      "555\n",
      "18 i6Htr3a\n",
      "192\n",
      "19 i6Pvalb\n",
      "1052\n",
      "20 i6Sst\n",
      "1059\n"
     ]
    }
   ],
   "source": [
    "#num_neurons = np.zeros(ncells)\n",
    "num_neurons = np.zeros(len(cell_names))\n",
    "for cell_nr, cell_name in enumerate(cell_names):\n",
    "    filename = 'mod_21_jan_20/spikes_sorted_by_pop/neuronIdsPerPopulation/'+\\\n",
    "                '%s.txt' % cell_name\n",
    "    \n",
    "    print(cell_nr, cell_name)\n",
    "    \n",
    "    fullpath = os.path.join(sim_data_dir, filename)\n",
    "    \n",
    "    a = open(fullpath, 'r')\n",
    "    \n",
    "    neuron_ids = np.asarray(a.readlines(), dtype = int)\n",
    "    \n",
    "    num_neurons[cell_nr] = len(neuron_ids)\n",
    "    print(len(neuron_ids))"
   ]
  },
  {
   "cell_type": "code",
   "execution_count": 18,
   "metadata": {},
   "outputs": [],
   "source": [
    "num_neurons_layers = {}\n",
    "num_neurons_layers['23e'] = num_neurons[0].tolist()\n",
    "num_neurons_layers['4e'] = np.sum(num_neurons[1:5]).tolist()\n",
    "num_neurons_layers['5e'] = np.sum(num_neurons[5:7]).tolist()\n",
    "num_neurons_layers['6e'] = num_neurons[7].tolist()\n",
    "num_neurons_layers['1i'] = num_neurons[8].tolist()\n",
    "num_neurons_layers['23i'] = np.sum(num_neurons[9:12]).tolist()\n",
    "num_neurons_layers['4i'] = np.sum(num_neurons[12:15]).tolist()\n",
    "num_neurons_layers['5i'] = np.sum(num_neurons[15:18]).tolist()\n",
    "num_neurons_layers['6i'] = np.sum(num_neurons[18:]).tolist()"
   ]
  },
  {
   "cell_type": "code",
   "execution_count": 19,
   "metadata": {},
   "outputs": [],
   "source": [
    "filename = 'cell_count_layers_onlyPVasInhib.txt'\n",
    "\n",
    "fullpath = filename\n",
    "with open(fullpath, 'w') as outfile:\n",
    "    json.dump(num_neurons_layers, outfile)"
   ]
  },
  {
   "cell_type": "markdown",
   "metadata": {},
   "source": [
    "#### Only Pvalb as inhibitory:"
   ]
  },
  {
   "cell_type": "code",
   "execution_count": 27,
   "metadata": {},
   "outputs": [],
   "source": [
    "firing_rate_layers = {}\n",
    "firing_rate_layers['23e'] = f_rates_trial_avg[0].tolist()\n",
    "firing_rate_layers['4e'] = np.sum(f_rates_trial_avg[1:5], axis=0).tolist()\n",
    "firing_rate_layers['5e'] = np.sum(f_rates_trial_avg[5:7], axis=0).tolist()\n",
    "firing_rate_layers['6e'] = f_rates_trial_avg[7].tolist()\n",
    "firing_rate_layers['1i'] = f_rates_trial_avg[8].tolist()\n",
    "firing_rate_layers['23i'] = f_rates_trial_avg[10].tolist()\n",
    "firing_rate_layers['4i'] = f_rates_trial_avg[13].tolist()\n",
    "firing_rate_layers['5i'] = f_rates_trial_avg[16].tolist()\n",
    "firing_rate_layers['6i'] = f_rates_trial_avg[19].tolist()"
   ]
  },
  {
   "cell_type": "markdown",
   "metadata": {},
   "source": [
    "### Save firing rates"
   ]
  },
  {
   "cell_type": "code",
   "execution_count": 28,
   "metadata": {},
   "outputs": [],
   "source": [
    "filename = 'week3_2020/mod_21_jan_20/firing_rate_layerpops_onlyPVasInhib.txt'"
   ]
  },
  {
   "cell_type": "code",
   "execution_count": 29,
   "metadata": {},
   "outputs": [],
   "source": [
    "fullpath = os.path.join(sim_data_dir, filename)\n",
    "with open(fullpath, 'w') as outfile:\n",
    "    json.dump(firing_rate_layers, outfile)"
   ]
  },
  {
   "cell_type": "code",
   "execution_count": null,
   "metadata": {},
   "outputs": [],
   "source": []
  }
 ],
 "metadata": {
  "kernelspec": {
   "display_name": "Python 3",
   "language": "python",
   "name": "python3"
  },
  "language_info": {
   "codemirror_mode": {
    "name": "ipython",
    "version": 3
   },
   "file_extension": ".py",
   "mimetype": "text/x-python",
   "name": "python",
   "nbconvert_exporter": "python",
   "pygments_lexer": "ipython3",
   "version": "3.7.6"
  }
 },
 "nbformat": 4,
 "nbformat_minor": 2
}
