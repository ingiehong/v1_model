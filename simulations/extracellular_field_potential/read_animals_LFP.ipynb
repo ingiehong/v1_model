{
 "cells": [
  {
   "cell_type": "code",
   "execution_count": 33,
   "metadata": {},
   "outputs": [],
   "source": [
    "%matplotlib notebook"
   ]
  },
  {
   "cell_type": "code",
   "execution_count": 1,
   "metadata": {},
   "outputs": [],
   "source": [
    "import os, sys\n",
    "\n",
    "import numpy as np\n",
    "import pandas as pd\n",
    "\n",
    "import matplotlib.pyplot as plt\n",
    "import multiprocessing as mp\n",
    "\n",
    "import elephant\n",
    "from neo.core import AnalogSignal\n",
    "import quantities as pq\n",
    "import xarray as xr\n",
    "\n",
    "from allensdk.brain_observatory.ecephys.ecephys_project_cache import EcephysProjectCache"
   ]
  },
  {
   "cell_type": "code",
   "execution_count": 2,
   "metadata": {},
   "outputs": [],
   "source": [
    "#exp_data_dir = '/Users/atleeskelandrimehaug/Dropbox (Simula)/Data/Allen_data/manually_downloaded_sessions/ecephys_cache_dir_10_31'\n",
    "\n",
    "exp_lfp_probes_data_dir = '/Volumes/My Passport/ecephys_cache_dir_10_31'\n",
    "\n",
    "manifest_path = os.path.join(exp_lfp_probes_data_dir, \"manifest.json\")\n",
    "#manifest_path = os.path.join(exp_data_dir, \"manifest.json\")\n",
    "cache = EcephysProjectCache.from_warehouse(manifest=manifest_path)"
   ]
  },
  {
   "cell_type": "code",
   "execution_count": null,
   "metadata": {},
   "outputs": [],
   "source": []
  },
  {
   "cell_type": "code",
   "execution_count": 4,
   "metadata": {},
   "outputs": [],
   "source": [
    "def read_in_lfp(session, session_id, structure='VISp', stim='flashes', color=1., trial_window_start = -0.5, trial_window_end = 0.1):\n",
    "    for probe_id in session.probes.index.values:\n",
    "        mask = session.channels.probe_id==probe_id\n",
    "        ecephys_structures = session.channels[mask].ecephys_structure_acronym.unique()\n",
    "        \n",
    "        print(ecephys_structures)\n",
    "        \n",
    "        if structure in ecephys_structures:\n",
    "            print(session_id, session.probes.loc[probe_id].description, probe_id, )\n",
    "            \n",
    "            lfp = session.get_lfp(probe_id)\n",
    "            mask = (session.stimulus_presentations.stimulus_name==stim) & \\\n",
    "                   (session.stimulus_presentations.color==color)\n",
    "            presentation_table = session.stimulus_presentations[mask]\n",
    "            presentation_times = presentation_table.start_time.values\n",
    "            presentation_ids = presentation_table.index.values\n",
    "            \n",
    "            mask = (session.channels.ecephys_structure_acronym==structure) & \\\n",
    "                   (session.channels.ecephys_structure_acronym.isin([structure]))\n",
    "            channel_ids = session.channels[mask].index.values\n",
    "            channel_vertical_position = session.channels.probe_vertical_position[channel_ids]\n",
    "            \n",
    "            sf = np.round(probes.lfp_sampling_rate[probe_id])# / 2.5\n",
    "            trial_window = np.arange(trial_window_start, trial_window_end, 1/sf)\n",
    "            time_selection = np.concatenate([trial_window + t for t in presentation_times])\n",
    "\n",
    "            inds = pd.MultiIndex.from_product((presentation_ids, trial_window), \n",
    "                                               names=('presentation_id', 'time_from_presentation_onset'))\n",
    "\n",
    "            ds = lfp.sel(time=time_selection, method='nearest').to_dataset(name='aligned_lfp')\n",
    "            ds = ds.assign(time=inds).unstack('time')\n",
    "            aligned_lfp = ds['aligned_lfp']\n",
    "            \n",
    "            lfp = aligned_lfp.sel(channel=slice(np.min(channel_ids), np.max(channel_ids)))\n",
    "            mean_lfp = lfp.mean('presentation_id')\n",
    "            channel_vertical_pos = session.channels.probe_vertical_position[np.array(lfp.channel)]\n",
    "            \n",
    "            s = dict()\n",
    "            s['lfp_mean'] = mean_lfp\n",
    "            s['lfp'] = lfp\n",
    "            s['channel_vertical_pos'] = channel_vertical_pos\n",
    "            s['time'] = trial_window\n",
    "            s['sf'] = sf\n",
    "            return s"
   ]
  },
  {
   "cell_type": "code",
   "execution_count": 21,
   "metadata": {},
   "outputs": [
    {
     "data": {
      "text/plain": [
       "[847657808]"
      ]
     },
     "execution_count": 21,
     "metadata": {},
     "output_type": "execute_result"
    }
   ],
   "source": [
    "session_idx = 0\n",
    "list_session_ids = [sessions.index.values[session_idx]]\n",
    "list_session_ids"
   ]
  },
  {
   "cell_type": "code",
   "execution_count": 22,
   "metadata": {},
   "outputs": [],
   "source": [
    "trial_window_start = -0.5\n",
    "trial_window_end = 1.0"
   ]
  },
  {
   "cell_type": "code",
   "execution_count": 23,
   "metadata": {},
   "outputs": [
    {
     "name": "stdout",
     "output_type": "stream",
     "text": [
      "['APN' 'NOT' 'DG' 'HPF' 'ProS' 'CA1' 'VISam' nan]\n",
      "['APN' 'MB' 'NOT' 'DG' 'ProS' 'VISpm' nan]\n",
      "['DG' 'POST' 'SUB' 'VISp' nan]\n",
      "847657808 probeC 848037572\n"
     ]
    }
   ],
   "source": [
    "X = dict()\n",
    "stim = 'flashes'\n",
    "color = +1.\n",
    "\n",
    "\n",
    "\n",
    "#for i, session_id in enumerate(sessions.index.values[:]):\n",
    "for i, session_id in enumerate(list_session_ids):\n",
    "\n",
    "    try:\n",
    "        X[session_id] = dict()\n",
    "        session = cache.get_session_data(session_id)\n",
    "        X[session_id]['cortex'] = read_in_lfp(session, session_id, structure='VISp', stim=stim, color=color, trial_window_start = trial_window_start, trial_window_end = trial_window_end)\n",
    "        #X[session_id]['lgn'] = read_in_lfp(session, session_id, structure='LGd', stim=stim, color=color, trial_window_start = trial_window_start, trial_window_end = trial_window_end)\n",
    "        X[session_id]['name'] = session_id\n",
    "        \n",
    "        name = str(session_id)+'_lfp.npy'\n",
    "        path = os.path.join('..', '..', 'processed_data', 'lfp', 'flash_white', 'trial_window_'\\\n",
    "             +str(trial_window_start).replace('.','pnt')+\\\n",
    "             '_to_'+str(trial_window_end).replace('.','pnt')+'s', name)\n",
    "        np.save(path, X[session_id])\n",
    "        \n",
    "    except:\n",
    "        print('==========================')\n",
    "        print(session_id)\n",
    "        print('==========================')\n",
    "        pass\n",
    "\n",
    "#np.save('../processed_data/animals_white_flash_LFP.npy', X)  "
   ]
  },
  {
   "cell_type": "code",
   "execution_count": 24,
   "metadata": {},
   "outputs": [
    {
     "name": "stdout",
     "output_type": "stream",
     "text": [
      "['APN' 'NOT' 'DG' 'HPF' 'ProS' 'CA1' 'VISam' nan]\n",
      "['APN' 'MB' 'NOT' 'DG' 'ProS' 'VISpm' nan]\n",
      "['DG' 'POST' 'SUB' 'VISp' nan]\n",
      "847657808 probeC 848037572\n"
     ]
    }
   ],
   "source": [
    "X = dict()\n",
    "stim = 'flashes'\n",
    "color = -1.\n",
    "\n",
    "#for i, session_id in enumerate(sessions.index.values[:]):\n",
    "for i, session_id in enumerate(list_session_ids):\n",
    "\n",
    "    try:\n",
    "        X[session_id] = dict()\n",
    "        session = cache.get_session_data(session_id)\n",
    "        X[session_id]['cortex'] = read_in_lfp(session, session_id, structure='VISp', stim=stim, color=color, trial_window_start = trial_window_start, trial_window_end = trial_window_end)\n",
    "        #X[session_id]['lgn'] = read_in_lfp(session, session_id, structure='LGd', stim=stim, color=color, trial_window_start = trial_window_start, trial_window_end = trial_window_end)\n",
    "        X[session_id]['name'] = session_id\n",
    "        \n",
    "        name = str(session_id)+'_lfp.npy'\n",
    "        path = os.path.join('..', '..', 'processed_data', 'lfp', 'flash_black', 'trial_window_'\\\n",
    "             +str(trial_window_start).replace('.','pnt')+\\\n",
    "             '_to_'+str(trial_window_end).replace('.','pnt')+'s', name)\n",
    "        np.save(path, X[session_id])\n",
    "        \n",
    "    except:\n",
    "        print('==========================')\n",
    "        print(session_id)\n",
    "        print('==========================')\n",
    "        pass\n"
   ]
  },
  {
   "cell_type": "code",
   "execution_count": null,
   "metadata": {},
   "outputs": [],
   "source": []
  },
  {
   "cell_type": "code",
   "execution_count": null,
   "metadata": {},
   "outputs": [],
   "source": []
  },
  {
   "cell_type": "code",
   "execution_count": null,
   "metadata": {},
   "outputs": [],
   "source": []
  },
  {
   "cell_type": "code",
   "execution_count": null,
   "metadata": {},
   "outputs": [],
   "source": []
  },
  {
   "cell_type": "code",
   "execution_count": null,
   "metadata": {},
   "outputs": [],
   "source": []
  },
  {
   "cell_type": "code",
   "execution_count": null,
   "metadata": {},
   "outputs": [],
   "source": []
  },
  {
   "cell_type": "code",
   "execution_count": null,
   "metadata": {},
   "outputs": [],
   "source": []
  },
  {
   "cell_type": "code",
   "execution_count": null,
   "metadata": {},
   "outputs": [],
   "source": []
  },
  {
   "cell_type": "code",
   "execution_count": null,
   "metadata": {},
   "outputs": [],
   "source": []
  }
 ],
 "metadata": {
  "kernelspec": {
   "display_name": "Python 3",
   "language": "python",
   "name": "python3"
  },
  "language_info": {
   "codemirror_mode": {
    "name": "ipython",
    "version": 3
   },
   "file_extension": ".py",
   "mimetype": "text/x-python",
   "name": "python",
   "nbconvert_exporter": "python",
   "pygments_lexer": "ipython3",
   "version": "3.7.6"
  }
 },
 "nbformat": 4,
 "nbformat_minor": 2
}
