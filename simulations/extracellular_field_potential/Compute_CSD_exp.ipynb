{
 "cells": [
  {
   "cell_type": "code",
   "execution_count": 1,
   "metadata": {},
   "outputs": [],
   "source": [
    "%matplotlib notebook"
   ]
  },
  {
   "cell_type": "code",
   "execution_count": 2,
   "metadata": {},
   "outputs": [],
   "source": [
    "import os, sys, glob\n",
    "\n",
    "import numpy as np\n",
    "import pandas as pd\n",
    "\n",
    "import matplotlib.pyplot as plt\n",
    "import multiprocessing as mp\n",
    "\n",
    "import elephant\n",
    "from neo.core import AnalogSignal\n",
    "import quantities as pq\n",
    "import xarray as xr\n",
    "\n",
    "from allensdk.brain_observatory.ecephys.ecephys_project_cache import EcephysProjectCache"
   ]
  },
  {
   "cell_type": "code",
   "execution_count": 3,
   "metadata": {},
   "outputs": [],
   "source": [
    "exp_data_dir = '/Users/atleeskelandrimehaug/Dropbox (Simula)/scripts_for_bmtk/data_files/exp'"
   ]
  },
  {
   "cell_type": "code",
   "execution_count": 4,
   "metadata": {},
   "outputs": [],
   "source": [
    "z_data = np.linspace(0, 1000E-6, 51) * pq.m       # [m] length of electrode\n",
    "diameter = 1600E-6 * pq.m                              # [m] source diameter\n",
    "h = 20E-6 * pq.m                                  # [m] distance between channels\n",
    "sigma = 0.3* pq.S / pq.m                         # [S/m] or [1/(ohm*m)] extracellular conductivity\n",
    "sigma_top = 0.3* pq.S / pq.m                     # [S/m] or [1/(ohm*m)] conductivity on top of cortex\n",
    "order_hann = int(2*z_data[-1]/h)                  # order for hann-filter smoothing\n",
    "\n",
    "delta_input = {\n",
    "        'sigma' : sigma,\n",
    "        'sigma_top' : sigma,\n",
    "        'f_type' : 'gaussian',  # gaussian filter\n",
    "        'f_order' : (3, 1),     # 3-point filter, sigma = 1.\n",
    "    }"
   ]
  },
  {
   "cell_type": "code",
   "execution_count": 5,
   "metadata": {},
   "outputs": [],
   "source": [
    "def compute_csd(session, diam=500*pq.um, method='DeltaiCSD', struct='cortex'):\n",
    "    \n",
    "    channel_vertical_pos = session[struct]['channel_vertical_pos']\n",
    "    coord = [[i] for i in channel_vertical_pos]*pq.um\n",
    "    sf = session[struct]['sf']\n",
    "    \n",
    "    \n",
    "    lfp_mean = session[struct]['lfp_mean']\n",
    "    neo_lfp = AnalogSignal(lfp_mean.T, units='V', sampling_rate=sf*pq.Hz)\n",
    "    csd = elephant.current_source_density.estimate_csd(neo_lfp, coords=coord, method=method, diam=diam, sigma=0.3*pq.S/pq.m)\n",
    "    csd_mean = xr.DataArray(csd.T, dims=lfp_mean.dims, coords=lfp_mean.coords, name='csd_mean',)\n",
    "    \n",
    "    lfp = session[struct]['lfp']\n",
    "    single_csd = np.zeros_like(lfp.data)\n",
    "    for t in range(len(lfp.presentation_id)):\n",
    "        neo_lfp = AnalogSignal(lfp.data[:,t,:].T, units='V', sampling_rate=sf*pq.Hz)\n",
    "        csd = elephant.current_source_density.estimate_csd(neo_lfp, coords=coord, method=method, diam=diam)\n",
    "        single_csd[:,t,:] = csd.T\n",
    "    csd = xr.DataArray(single_csd, dims=lfp.dims, coords=lfp.coords, name='csd',)\n",
    "    \n",
    "    s = dict()\n",
    "    s['csd_mean'] = csd_mean\n",
    "    s['csd'] = csd\n",
    "    s['channel_vertical_pos'] = channel_vertical_pos\n",
    "    s['time'] = session[struct]['time']\n",
    "    s['sf'] = sf\n",
    "    return s"
   ]
  },
  {
   "cell_type": "code",
   "execution_count": 8,
   "metadata": {},
   "outputs": [
    {
     "name": "stdout",
     "output_type": "stream",
     "text": [
      "/Users/atleeskelandrimehaug/Dropbox (Simula)/scripts_for_bmtk/data_files/exp/715093703_lfp.npy\n",
      "/Users/atleeskelandrimehaug/Dropbox (Simula)/scripts_for_bmtk/data_files/exp/715093703_lfp.npy\n",
      "715093703\n",
      "discrete filter coefficients: \n",
      "b = [ 0.607 1.000 0.607 ],                \n",
      "a = [ 2.213 ]\n",
      "discrete filter coefficients: \n",
      "b = [ 0.607 1.000 0.607 ],                \n",
      "a = [ 2.213 ]\n",
      "discrete filter coefficients: \n",
      "b = [ 0.607 1.000 0.607 ],                \n",
      "a = [ 2.213 ]\n",
      "discrete filter coefficients: \n",
      "b = [ 0.607 1.000 0.607 ],                \n",
      "a = [ 2.213 ]\n",
      "discrete filter coefficients: \n",
      "b = [ 0.607 1.000 0.607 ],                \n",
      "a = [ 2.213 ]\n",
      "discrete filter coefficients: \n",
      "b = [ 0.607 1.000 0.607 ],                \n",
      "a = [ 2.213 ]\n",
      "discrete filter coefficients: \n",
      "b = [ 0.607 1.000 0.607 ],                \n",
      "a = [ 2.213 ]\n",
      "discrete filter coefficients: \n",
      "b = [ 0.607 1.000 0.607 ],                \n",
      "a = [ 2.213 ]\n",
      "Failed\n"
     ]
    }
   ],
   "source": [
    "#path = os.path.join('..', '..', 'processed_data', 'lfp', 'flash_white', '*')\n",
    "#file_list = glob.glob(path)\n",
    "\n",
    "file_list = glob.glob(os.path.join(exp_data_dir,'*_lfp.npy'))\n",
    "print(file_list[0])\n",
    "file_list.sort()\n",
    "\n",
    "print(file_list[0])\n",
    "\n",
    "\n",
    "\n",
    "for f in file_list[0:1]:\n",
    "    try:\n",
    "        X = np.load(f, allow_pickle=True).item()\n",
    "        print(X['name'])\n",
    "        output = dict()\n",
    "        output['cortex'] = compute_csd(X, diam=diameter, method='DeltaiCSD', struct='cortex')\n",
    "        #output['cortex'] = compute_csd(X, diam=1600*pq.um, method='DeltaiCSD', struct='cortex')\n",
    "        #output['lgn'] = compute_csd(X, diam=500*pq.um, method='DeltaiCSD', struct='lgn')\n",
    "        output['name'] = X['name']\n",
    "    \n",
    "        name = str(output['name'])+'_csd.npy'\n",
    "        #path = os.path.join('..', '..', 'processed_data', 'csd', 'flash_white', name)\n",
    "        path = os.path.join(exp_data_dir,name)\n",
    "        #np.save(path, output)\n",
    "    except:\n",
    "        print('Failed')"
   ]
  },
  {
   "cell_type": "code",
   "execution_count": 7,
   "metadata": {
    "scrolled": true
   },
   "outputs": [
    {
     "ename": "IndexError",
     "evalue": "list index out of range",
     "output_type": "error",
     "traceback": [
      "\u001b[0;31m---------------------------------------------------------------------------\u001b[0m",
      "\u001b[0;31mIndexError\u001b[0m                                Traceback (most recent call last)",
      "\u001b[0;32m<ipython-input-7-163e122c729d>\u001b[0m in \u001b[0;36m<module>\u001b[0;34m\u001b[0m\n\u001b[1;32m      2\u001b[0m \u001b[0;34m\u001b[0m\u001b[0m\n\u001b[1;32m      3\u001b[0m \u001b[0mfile_list\u001b[0m \u001b[0;34m=\u001b[0m \u001b[0mglob\u001b[0m\u001b[0;34m.\u001b[0m\u001b[0mglob\u001b[0m\u001b[0;34m(\u001b[0m\u001b[0mpath\u001b[0m\u001b[0;34m)\u001b[0m\u001b[0;34m\u001b[0m\u001b[0;34m\u001b[0m\u001b[0m\n\u001b[0;32m----> 4\u001b[0;31m \u001b[0mprint\u001b[0m\u001b[0;34m(\u001b[0m\u001b[0mfile_list\u001b[0m\u001b[0;34m[\u001b[0m\u001b[0;36m0\u001b[0m\u001b[0;34m]\u001b[0m\u001b[0;34m)\u001b[0m\u001b[0;34m\u001b[0m\u001b[0;34m\u001b[0m\u001b[0m\n\u001b[0m\u001b[1;32m      5\u001b[0m \u001b[0mfile_list\u001b[0m\u001b[0;34m.\u001b[0m\u001b[0msort\u001b[0m\u001b[0;34m(\u001b[0m\u001b[0;34m)\u001b[0m\u001b[0;34m\u001b[0m\u001b[0;34m\u001b[0m\u001b[0m\n\u001b[1;32m      6\u001b[0m \u001b[0;34m\u001b[0m\u001b[0m\n",
      "\u001b[0;31mIndexError\u001b[0m: list index out of range"
     ]
    }
   ],
   "source": [
    "path = os.path.join('..', '..', 'processed_data', 'lfp', 'flash_black', '*')\n",
    "\n",
    "file_list = glob.glob(path)\n",
    "print(file_list[0])\n",
    "file_list.sort()\n",
    "\n",
    "print(file_list[0])\n",
    "\n",
    "for f in file_list:\n",
    "    try:\n",
    "        X = np.load(f, allow_pickle=True).item()\n",
    "        print(X['name'])\n",
    "        output = dict()\n",
    "        output['cortex'] = compute_csd(X, diam=diameter, method='DeltaiCSD', struct='cortex')\n",
    "        #output['cortex'] = compute_csd(X, diam=1600*pq.um, method='DeltaiCSD', struct='cortex')\n",
    "    #     output['lgn'] = compute_csd(X, diam=500*pq.um, method='DeltaiCSD', struct='lgn')\n",
    "        output['name'] = X['name']\n",
    "    \n",
    "        name = str(output['name'])+'_csd.npy'\n",
    "        path = os.path.join('..', '..', 'processed_data', 'csd', 'flash_black', name)\n",
    "        np.save(path, output)\n",
    "    except:\n",
    "        print('Failed')"
   ]
  },
  {
   "cell_type": "code",
   "execution_count": null,
   "metadata": {},
   "outputs": [],
   "source": []
  }
 ],
 "metadata": {
  "kernelspec": {
   "display_name": "Python 3",
   "language": "python",
   "name": "python3"
  },
  "language_info": {
   "codemirror_mode": {
    "name": "ipython",
    "version": 3
   },
   "file_extension": ".py",
   "mimetype": "text/x-python",
   "name": "python",
   "nbconvert_exporter": "python",
   "pygments_lexer": "ipython3",
   "version": "3.7.6"
  }
 },
 "nbformat": 4,
 "nbformat_minor": 2
}
